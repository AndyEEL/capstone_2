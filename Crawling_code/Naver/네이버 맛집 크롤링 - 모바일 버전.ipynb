{
 "cells": [
  {
   "cell_type": "code",
   "execution_count": null,
   "id": "experienced-count",
   "metadata": {},
   "outputs": [],
   "source": [
    "from selenium import webdriver\n",
    "from selenium.webdriver.common.keys import Keys\n",
    "from selenium.common.exceptions import NoSuchElementException\n",
    "from selenium.common.exceptions import ElementNotVisibleException\n",
    "from bs4 import BeautifulSoup\n",
    "import requests\n",
    "from urllib.request import urlopen\n",
    "import datetime\n",
    "import time\n",
    "import os\n",
    "from requests import get\n",
    "import pandas as pd\n",
    "import json"
   ]
  },
  {
   "cell_type": "code",
   "execution_count": null,
   "id": "express-profile",
   "metadata": {},
   "outputs": [],
   "source": [
    "#음식점 이름 -> 페이지 id 알아내기\n",
    "\n",
    "location = \"회기\"\n",
    "res_info = pd.read_csv(\"./dongdaemoon.csv\", engine = \"python\", encoding = \"CP949\")\n",
    "res_info = res_info.fillna(\"\")\n",
    "\n",
    "hoegi = res_info[res_info[\"소재지(지번)\"].str.contains(location)]\n",
    "rest_name = hoegi[\"업소명\"]\n",
    "rest_name.head(10)"
   ]
  },
  {
   "cell_type": "code",
   "execution_count": null,
   "id": "physical-finnish",
   "metadata": {},
   "outputs": [],
   "source": [
    "id_list = list(rest_name)"
   ]
  },
  {
   "cell_type": "code",
   "execution_count": null,
   "id": "incorporate-renewal",
   "metadata": {},
   "outputs": [],
   "source": [
    "names, addresses, menu_lists = [], [], []\n",
    "\n",
    "for id_ in id_list:\n",
    "    \n",
    "    #음식점 메인 페이지 request\n",
    "    url = \"https://m.place.naver.com/restaurant/\" + id_ + \"/home\"\n",
    "    response = requests.get(url, headers={\"User-Agent\": \"Mozilla/5.0\"})\n",
    "    main_req = get(url, headers = headers)\n",
    "    soup = BeautifulSoup(main_req.content.decode('utf-8','replace'))\n",
    "    print(soup)\n",
    "    #음식점 이름, 주소 크롤링\n",
    "    place_name = soup.select_one(\"._3XamX\").get_text()\n",
    "    address = soup.select_one(\"._2yqUQ\").get_text()\n",
    "\n",
    "    #메뉴 리스트 페이지 request\n",
    "    menu_url = url.replace(\"/home\", \"\") + \"/menu/list\"\n",
    "    menu_req = get(menu_url)\n",
    "    menu_soup = BeautifulSoup(menu_req.content.decode(\"utf-8\", \"replace\"))\n",
    "    \n",
    "    #메뉴 리스트 크롤링\n",
    "    menu_list = menu_soup.select(\"._3yfZ1\")\n",
    "    for (idx, menu) in enumerate(menu_list):\n",
    "        menu_list[idx] = menu.get_text()\n",
    "\n",
    "    #리스트 저장\n",
    "    names.append(place_name)\n",
    "    addresses.append(address)\n",
    "    menu_lists.append(menu_list)\n",
    "\n",
    "#데이터 프레임으로 저장\n",
    "df = pd.DataFrame()\n",
    "df[\"식당명\"] = names\n",
    "df[\"주소\"] = addresses\n",
    "df[\"메뉴\"] = menu_lists"
   ]
  },
  {
   "cell_type": "code",
   "execution_count": null,
   "id": "acute-nirvana",
   "metadata": {},
   "outputs": [],
   "source": [
    "df"
   ]
  }
 ],
 "metadata": {
  "kernelspec": {
   "display_name": "Python 3",
   "language": "python",
   "name": "python3"
  },
  "language_info": {
   "codemirror_mode": {
    "name": "ipython",
    "version": 3
   },
   "file_extension": ".py",
   "mimetype": "text/x-python",
   "name": "python",
   "nbconvert_exporter": "python",
   "pygments_lexer": "ipython3",
   "version": "3.9.2"
  }
 },
 "nbformat": 4,
 "nbformat_minor": 5
}
