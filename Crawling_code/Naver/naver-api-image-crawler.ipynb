{
 "cells": [
  {
   "cell_type": "markdown",
   "id": "federal-formation",
   "metadata": {},
   "source": [
    "### 네이버 이미지 API 크롤링\n",
    "- 기능: 네이버 API를 이용하여 네이버 이미지 크롤링\n",
    "- 수정할 부분: 2번째 셀의 `client_id`, `client_secret`  / 3번째 셀의 `search_list`\n",
    "- 결과: 크롤링 된 이미지가 가장 상위 폴더 Crawling_result에 저장 됨"
   ]
  },
  {
   "cell_type": "code",
   "execution_count": null,
   "id": "protected-memphis",
   "metadata": {},
   "outputs": [],
   "source": [
    "import os\n",
    "import sys\n",
    "import urllib.request\n",
    "import json\n",
    "import time"
   ]
  },
  {
   "cell_type": "code",
   "execution_count": null,
   "id": "fabulous-andrews",
   "metadata": {},
   "outputs": [],
   "source": [
    "client_id = \"API ID\"\n",
    "client_secret = \"API PW\""
   ]
  },
  {
   "cell_type": "code",
   "execution_count": null,
   "id": "structured-ordinary",
   "metadata": {},
   "outputs": [],
   "source": [
    "##이미지 수집 리스트 정리\n",
    "search_list = [\"치킨\", \"김치찌개\"]"
   ]
  },
  {
   "cell_type": "code",
   "execution_count": null,
   "id": "lucky-twins",
   "metadata": {},
   "outputs": [],
   "source": [
    "for search_key in search_list:\n",
    "    \n",
    "    print(search_key + \" 관련 이미지 수집 시작\")\n",
    "    start_time = time.time()\n",
    "    print(\"ㄴ 시작 시간: \", time.localtime(start_time), end = \"\\n\\n\")\n",
    "    \n",
    "    ## 이미지 링크 수집\n",
    "    link_list = []\n",
    "    encText = urllib.parse.quote(search_key)\n",
    "    \n",
    "    # 최대 1100개 수집\n",
    "    for start in range(1, 1001, 100):\n",
    "        print(str(start) + \"개 수집 중...\")\n",
    "        url = \"https://openapi.naver.com/v1/search/image?query=\" + encText + \"&start=\" + str(start) + \"&display=100\"\n",
    "        request = urllib.request.Request(url)\n",
    "        \n",
    "        # client id, client secret 입력\n",
    "        request.add_header(\"X-Naver-Client-Id\",client_id)\n",
    "        request.add_header(\"X-Naver-Client-Secret\",client_secret)\n",
    "        response = urllib.request.urlopen(request)\n",
    "        rescode = response.getcode()\n",
    "        if(rescode==200):\n",
    "            \n",
    "            #이미지 링크만 파싱하여 link_list에 저장\n",
    "            response_body = response.read()\n",
    "            response_json = json.loads(response_body)\n",
    "            item_list = response_json[\"items\"]\n",
    "            for item in item_list:\n",
    "                link_list.append(item[\"link\"])\n",
    "        else:\n",
    "            print(\"Error Code:\" + rescode)\n",
    "\n",
    "    # link_list에서 중복 제거\n",
    "    link_list = list(set(link_list))\n",
    "\n",
    "    ## 로컬에 이미지 저장\n",
    "    # 폴더 생성\n",
    "    dir_name = \"../../Crawling_result/\" + search_key + \"/\"\n",
    "    if not os.path.exists(dir_name):\n",
    "        os.makedirs(dir_name)\n",
    "    print(search_key + \" 관련 폴더 생성 중...\")\n",
    "    \n",
    "    # 이미지를 jpg 확장자로 저장\n",
    "    for (idx, link) in enumerate(link_list):\n",
    "        try:\n",
    "            urllib.request.urlretrieve(link, dir_name + search_key + \"_\" + str(idx) + \".jpg\")\n",
    "        except:\n",
    "            pass\n",
    "    print(search_key + \"관련 이미지 저장 중...\")\n",
    "    \n",
    "    print(search_key + \" 관련 이미지 \" + str(len(link_list)) + \"개 수집 완료\")\n",
    "    end_time = time.time()\n",
    "    print(\"ㄴ 종료 시간: \", time.localtime(end_time))\n",
    "    print(\"ㄴ 걸린 시간: \", (end_time - start_time) / 60 , \" 분 \", end = \"\\n\\n\")"
   ]
  },
  {
   "cell_type": "code",
   "execution_count": null,
   "id": "vanilla-christopher",
   "metadata": {},
   "outputs": [],
   "source": [
    "# 무시하세요!\n",
    "# search_list = [\"크로네 베이커리\"]\n",
    "\n",
    "# for search_key in search_list:\n",
    "    \n",
    "#     link_list = []\n",
    "#     encText = urllib.parse.quote(search_key)\n",
    "\n",
    "#     url = \"https://openapi.naver.com/v1/search/local.json?query=\" + encText + \"&display=10\" + \"&start=10\"\n",
    "#     request = urllib.request.Request(url)\n",
    "\n",
    "#     # client id, client secret 입력\n",
    "#     request.add_header(\"X-Naver-Client-Id\",client_id)\n",
    "#     request.add_header(\"X-Naver-Client-Secret\",client_secret)\n",
    "#     response = urllib.request.urlopen(request)\n",
    "#     rescode = response.getcode()\n",
    "#     if(rescode==200):\n",
    "\n",
    "#     #이미지 링크만 파싱하여 link_list에 저장\n",
    "#         response_body = response.read()\n",
    "#         #print(response_body)\n",
    "#         print(response_body.decode('utf-8'))"
   ]
  }
 ],
 "metadata": {
  "kernelspec": {
   "display_name": "Python 3",
   "language": "python",
   "name": "python3"
  },
  "language_info": {
   "codemirror_mode": {
    "name": "ipython",
    "version": 3
   },
   "file_extension": ".py",
   "mimetype": "text/x-python",
   "name": "python",
   "nbconvert_exporter": "python",
   "pygments_lexer": "ipython3",
   "version": "3.9.2"
  }
 },
 "nbformat": 4,
 "nbformat_minor": 5
}
