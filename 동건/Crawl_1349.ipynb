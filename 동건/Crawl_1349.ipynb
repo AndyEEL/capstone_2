{
 "cells": [
  {
   "cell_type": "markdown",
   "metadata": {},
   "source": [
    "# 망고플레이트 성수동 크롤링\n",
    "## 1. Get 매소드 + html 파싱 시도 -> 실패"
   ]
  },
  {
   "cell_type": "code",
   "execution_count": 2,
   "metadata": {},
   "outputs": [],
   "source": [
    "from bs4 import BeautifulSoup as bs\n",
    "\n",
    "import pandas as pd\n",
    "import requests\n",
    "\n",
    "baseUrl = 'https://www.mangoplate.com/'\n",
    "\n",
    "parmDict = {\n",
    "    \"User-Agent\" : \"Mozilla/5.0\",\n",
    "           }\n",
    "\n",
    "\n",
    "response = requests.get(baseUrl, \n",
    "                        params = parmDict\n",
    "                       )\n",
    "\n",
    "soup = bs(response.text)\n",
    "soup"
   ]
  },
  {
   "cell_type": "markdown",
   "metadata": {},
   "source": [
    "---------"
   ]
  },
  {
   "cell_type": "markdown",
   "metadata": {},
   "source": [
    "## 2. 셀레니움 방법"
   ]
  },
  {
   "cell_type": "code",
   "execution_count": 4,
   "metadata": {},
   "outputs": [],
   "source": [
    "import selenium\n",
    "from selenium import webdriver\n",
    "from selenium.webdriver import ActionChains\n",
    "\n",
    "from selenium.webdriver.common.keys import Keys\n",
    "from selenium.webdriver.common.by import By\n",
    "\n",
    "from selenium.webdriver.support import expected_conditions as EC\n",
    "from selenium.webdriver.support.ui import Select\n",
    "\n"
   ]
  },
  {
   "cell_type": "code",
   "execution_count": 58,
   "metadata": {
    "scrolled": true
   },
   "outputs": [],
   "source": [
    "URL = 'https://www.mangoplate.com/search/%EC%84%B1%EC%88%98%EB%8F%99'\n",
    "\n",
    "#드라이버 로드\n",
    "#코드 실행시키기 위해서 chromedriver 필요해요!\n",
    "driver = webdriver.Chrome(executable_path='/Users/idong-geon/Documents/chromedriver')\n",
    "driver.implicitly_wait(5)\n",
    "\n",
    "#웹사이트 접속\n",
    "driver.get(url=URL)\n",
    "\n",
    "#html_doc 따기\n",
    "html_doc = driver.page_source\n",
    "soup = bs(html_doc, 'html.parser')\n",
    "\n",
    "html_doc = driver.page_source\n",
    "soup = bs(html_doc, 'html.parser')\n",
    "\n",
    "\n",
    "title = soup.find(\"h1\",{\"class\": \"restaurant_name\"})\n"
   ]
  },
  {
   "cell_type": "code",
   "execution_count": 59,
   "metadata": {},
   "outputs": [
    {
     "name": "stdout",
     "output_type": "stream",
     "text": [
      "None\n"
     ]
    }
   ],
   "source": [
    "print(title)"
   ]
  },
  {
   "cell_type": "code",
   "execution_count": null,
   "metadata": {},
   "outputs": [],
   "source": [
    "/html/body/main/article/div[2]/div/div/section/div[3]/ul/li[1]/div[1]/figure/figcaption/div/a/h2\n",
    "/html/body/main/article/div[2]/div/div/section/div[4]\n",
    "/html/body/main/article/div[2]/div/div/section/div[3]/ul/li[1]/div[1]/figure/figcaption/div/a/h2"
   ]
  },
  {
   "cell_type": "code",
   "execution_count": null,
   "metadata": {},
   "outputs": [],
   "source": [
    "body > main > article > div.column-wrapper > div > div > section > div.search-list-restaurants-inner-wrap > ul"
   ]
  },
  {
   "cell_type": "code",
   "execution_count": null,
   "metadata": {},
   "outputs": [],
   "source": [
    "/html/body/div/div[2]/div[4]/ul/li[3]/div/ul/li[1]/div/div[1]/div[2]\n",
    "\n",
    "#_vendor_select_layer > div > div.maker_group > div:nth-child(2) > ul"
   ]
  },
  {
   "cell_type": "markdown",
   "metadata": {},
   "source": [
    "### 실습"
   ]
  },
  {
   "cell_type": "code",
   "execution_count": 45,
   "metadata": {},
   "outputs": [
    {
     "name": "stdout",
     "output_type": "stream",
     "text": [
      "++++++++++++++++++++++++++++++++++++++++++++++++++++++++++++++++++++++++++++++++++++++++++++++++++++\n",
      "네이버 자동차\n",
      "https://auto.naver.com/bike/mainList.nhn\n",
      "바이크 브랜드 크롤링\n",
      "----------------------------------------------------------------------------------------------------\n"
     ]
    },
    {
     "ename": "WebDriverException",
     "evalue": "Message: chrome not reachable\n  (Session info: chrome=89.0.4389.90)\n",
     "output_type": "error",
     "traceback": [
      "\u001b[0;31m---------------------------------------------------------------------------\u001b[0m",
      "\u001b[0;31mWebDriverException\u001b[0m                        Traceback (most recent call last)",
      "\u001b[0;32m<ipython-input-45-936e05fc0024>\u001b[0m in \u001b[0;36m<module>\u001b[0;34m\u001b[0m\n\u001b[1;32m     17\u001b[0m \u001b[0mtime\u001b[0m\u001b[0;34m.\u001b[0m\u001b[0msleep\u001b[0m\u001b[0;34m(\u001b[0m\u001b[0;36m3\u001b[0m\u001b[0;34m)\u001b[0m\u001b[0;34m\u001b[0m\u001b[0;34m\u001b[0m\u001b[0m\n\u001b[1;32m     18\u001b[0m \u001b[0;34m\u001b[0m\u001b[0m\n\u001b[0;32m---> 19\u001b[0;31m allBikeCompanyElement = driver.find_elements_by_css_selector(\n\u001b[0m\u001b[1;32m     20\u001b[0m     \"#_vendor_select_layer > div > div.maker_group div.emblem_area > ul > li\")\n\u001b[1;32m     21\u001b[0m \u001b[0;34m\u001b[0m\u001b[0m\n",
      "\u001b[0;32m~/opt/anaconda3/lib/python3.8/site-packages/selenium/webdriver/remote/webdriver.py\u001b[0m in \u001b[0;36mfind_elements_by_css_selector\u001b[0;34m(self, css_selector)\u001b[0m\n\u001b[1;32m    612\u001b[0m             \u001b[0melements\u001b[0m \u001b[0;34m=\u001b[0m \u001b[0mdriver\u001b[0m\u001b[0;34m.\u001b[0m\u001b[0mfind_elements_by_css_selector\u001b[0m\u001b[0;34m(\u001b[0m\u001b[0;34m'.foo'\u001b[0m\u001b[0;34m)\u001b[0m\u001b[0;34m\u001b[0m\u001b[0;34m\u001b[0m\u001b[0m\n\u001b[1;32m    613\u001b[0m         \"\"\"\n\u001b[0;32m--> 614\u001b[0;31m         \u001b[0;32mreturn\u001b[0m \u001b[0mself\u001b[0m\u001b[0;34m.\u001b[0m\u001b[0mfind_elements\u001b[0m\u001b[0;34m(\u001b[0m\u001b[0mby\u001b[0m\u001b[0;34m=\u001b[0m\u001b[0mBy\u001b[0m\u001b[0;34m.\u001b[0m\u001b[0mCSS_SELECTOR\u001b[0m\u001b[0;34m,\u001b[0m \u001b[0mvalue\u001b[0m\u001b[0;34m=\u001b[0m\u001b[0mcss_selector\u001b[0m\u001b[0;34m)\u001b[0m\u001b[0;34m\u001b[0m\u001b[0;34m\u001b[0m\u001b[0m\n\u001b[0m\u001b[1;32m    615\u001b[0m \u001b[0;34m\u001b[0m\u001b[0m\n\u001b[1;32m    616\u001b[0m     \u001b[0;32mdef\u001b[0m \u001b[0mexecute_script\u001b[0m\u001b[0;34m(\u001b[0m\u001b[0mself\u001b[0m\u001b[0;34m,\u001b[0m \u001b[0mscript\u001b[0m\u001b[0;34m,\u001b[0m \u001b[0;34m*\u001b[0m\u001b[0margs\u001b[0m\u001b[0;34m)\u001b[0m\u001b[0;34m:\u001b[0m\u001b[0;34m\u001b[0m\u001b[0;34m\u001b[0m\u001b[0m\n",
      "\u001b[0;32m~/opt/anaconda3/lib/python3.8/site-packages/selenium/webdriver/remote/webdriver.py\u001b[0m in \u001b[0;36mfind_elements\u001b[0;34m(self, by, value)\u001b[0m\n\u001b[1;32m   1003\u001b[0m         \u001b[0;31m# Return empty list if driver returns null\u001b[0m\u001b[0;34m\u001b[0m\u001b[0;34m\u001b[0m\u001b[0;34m\u001b[0m\u001b[0m\n\u001b[1;32m   1004\u001b[0m         \u001b[0;31m# See https://github.com/SeleniumHQ/selenium/issues/4555\u001b[0m\u001b[0;34m\u001b[0m\u001b[0;34m\u001b[0m\u001b[0;34m\u001b[0m\u001b[0m\n\u001b[0;32m-> 1005\u001b[0;31m         return self.execute(Command.FIND_ELEMENTS, {\n\u001b[0m\u001b[1;32m   1006\u001b[0m             \u001b[0;34m'using'\u001b[0m\u001b[0;34m:\u001b[0m \u001b[0mby\u001b[0m\u001b[0;34m,\u001b[0m\u001b[0;34m\u001b[0m\u001b[0;34m\u001b[0m\u001b[0m\n\u001b[1;32m   1007\u001b[0m             'value': value})['value'] or []\n",
      "\u001b[0;32m~/opt/anaconda3/lib/python3.8/site-packages/selenium/webdriver/remote/webdriver.py\u001b[0m in \u001b[0;36mexecute\u001b[0;34m(self, driver_command, params)\u001b[0m\n\u001b[1;32m    319\u001b[0m         \u001b[0mresponse\u001b[0m \u001b[0;34m=\u001b[0m \u001b[0mself\u001b[0m\u001b[0;34m.\u001b[0m\u001b[0mcommand_executor\u001b[0m\u001b[0;34m.\u001b[0m\u001b[0mexecute\u001b[0m\u001b[0;34m(\u001b[0m\u001b[0mdriver_command\u001b[0m\u001b[0;34m,\u001b[0m \u001b[0mparams\u001b[0m\u001b[0;34m)\u001b[0m\u001b[0;34m\u001b[0m\u001b[0;34m\u001b[0m\u001b[0m\n\u001b[1;32m    320\u001b[0m         \u001b[0;32mif\u001b[0m \u001b[0mresponse\u001b[0m\u001b[0;34m:\u001b[0m\u001b[0;34m\u001b[0m\u001b[0;34m\u001b[0m\u001b[0m\n\u001b[0;32m--> 321\u001b[0;31m             \u001b[0mself\u001b[0m\u001b[0;34m.\u001b[0m\u001b[0merror_handler\u001b[0m\u001b[0;34m.\u001b[0m\u001b[0mcheck_response\u001b[0m\u001b[0;34m(\u001b[0m\u001b[0mresponse\u001b[0m\u001b[0;34m)\u001b[0m\u001b[0;34m\u001b[0m\u001b[0;34m\u001b[0m\u001b[0m\n\u001b[0m\u001b[1;32m    322\u001b[0m             response['value'] = self._unwrap_value(\n\u001b[1;32m    323\u001b[0m                 response.get('value', None))\n",
      "\u001b[0;32m~/opt/anaconda3/lib/python3.8/site-packages/selenium/webdriver/remote/errorhandler.py\u001b[0m in \u001b[0;36mcheck_response\u001b[0;34m(self, response)\u001b[0m\n\u001b[1;32m    240\u001b[0m                 \u001b[0malert_text\u001b[0m \u001b[0;34m=\u001b[0m \u001b[0mvalue\u001b[0m\u001b[0;34m[\u001b[0m\u001b[0;34m'alert'\u001b[0m\u001b[0;34m]\u001b[0m\u001b[0;34m.\u001b[0m\u001b[0mget\u001b[0m\u001b[0;34m(\u001b[0m\u001b[0;34m'text'\u001b[0m\u001b[0;34m)\u001b[0m\u001b[0;34m\u001b[0m\u001b[0;34m\u001b[0m\u001b[0m\n\u001b[1;32m    241\u001b[0m             \u001b[0;32mraise\u001b[0m \u001b[0mexception_class\u001b[0m\u001b[0;34m(\u001b[0m\u001b[0mmessage\u001b[0m\u001b[0;34m,\u001b[0m \u001b[0mscreen\u001b[0m\u001b[0;34m,\u001b[0m \u001b[0mstacktrace\u001b[0m\u001b[0;34m,\u001b[0m \u001b[0malert_text\u001b[0m\u001b[0;34m)\u001b[0m\u001b[0;34m\u001b[0m\u001b[0;34m\u001b[0m\u001b[0m\n\u001b[0;32m--> 242\u001b[0;31m         \u001b[0;32mraise\u001b[0m \u001b[0mexception_class\u001b[0m\u001b[0;34m(\u001b[0m\u001b[0mmessage\u001b[0m\u001b[0;34m,\u001b[0m \u001b[0mscreen\u001b[0m\u001b[0;34m,\u001b[0m \u001b[0mstacktrace\u001b[0m\u001b[0;34m)\u001b[0m\u001b[0;34m\u001b[0m\u001b[0;34m\u001b[0m\u001b[0m\n\u001b[0m\u001b[1;32m    243\u001b[0m \u001b[0;34m\u001b[0m\u001b[0m\n\u001b[1;32m    244\u001b[0m     \u001b[0;32mdef\u001b[0m \u001b[0m_value_or_default\u001b[0m\u001b[0;34m(\u001b[0m\u001b[0mself\u001b[0m\u001b[0;34m,\u001b[0m \u001b[0mobj\u001b[0m\u001b[0;34m,\u001b[0m \u001b[0mkey\u001b[0m\u001b[0;34m,\u001b[0m \u001b[0mdefault\u001b[0m\u001b[0;34m)\u001b[0m\u001b[0;34m:\u001b[0m\u001b[0;34m\u001b[0m\u001b[0;34m\u001b[0m\u001b[0m\n",
      "\u001b[0;31mWebDriverException\u001b[0m: Message: chrome not reachable\n  (Session info: chrome=89.0.4389.90)\n"
     ]
    }
   ],
   "source": [
    "\n",
    "\n",
    "#드라이버 로드\n",
    "driver = webdriver.Chrome(executable_path='/Users/idong-geon/Documents/chromedriver')\n",
    "driver.implicitly_wait(5)\n",
    "\n",
    "#웹사이트 접속\n",
    "driver.get('https://auto.naver.com/bike/mainList.nhn')\n",
    "\n",
    "print(\"+\" * 100)\n",
    "print(driver.title)   # 크롤링한 페이지의 title 정보\n",
    "print(driver.current_url)  # 현재 크롤링된 페이지의 url\n",
    "print(\"바이크 브랜드 크롤링\")\n",
    "print(\"-\" * 100)\n",
    "\n",
    "bikeCompanyAllBtn = driver.find_element_by_css_selector(\"#container > div.spot_main > div.spot_aside > div.tit > a\")\n",
    "bikeCompanyAllBtn.click()\n",
    "\n",
    "time.sleep(3)\n",
    "\n",
    "allBikeCompanyElement = driver.find_elements_by_css_selector(\n",
    "    \"#_vendor_select_layer > div > div.maker_group div.emblem_area > ul > li\")\n",
    "\n",
    "print(allBikeCompanyElement)\n",
    "\n",
    "# bikeCompany = []\n",
    "# bikeUrl = []\n",
    "# bikeEmb = []\n",
    "\n",
    "# for item in allBikeCompanyElement:\n",
    "#     bikeComName = item.find_element_by_tag_name(\"span\").text\n",
    "#     if (bikeComName != ''):\n",
    "#         print(\"바이크 회사명:\" + bikeComName)\n",
    "#         bikeCompany.append(bikeComName)\n",
    "#         ahref = item.find_element_by_tag_name(\"a\").get_attribute(\"href\")\n",
    "#         print('네이버 자동차 바이크제조사 홈 sub url:', ahref)\n",
    "#         bikeCompany.append(ahref)\n",
    "#         imgUrl = item.find_element_by_tag_name(\"img\").get_attribute(\"src\")\n",
    "#         print('바이크 회사 엠블럼:', imgUrl)\n",
    "#         bikeEmb.append(imgUrl)"
   ]
  },
  {
   "cell_type": "code",
   "execution_count": 26,
   "metadata": {},
   "outputs": [
    {
     "data": {
      "text/html": [
       "<div>\n",
       "<style scoped>\n",
       "    .dataframe tbody tr th:only-of-type {\n",
       "        vertical-align: middle;\n",
       "    }\n",
       "\n",
       "    .dataframe tbody tr th {\n",
       "        vertical-align: top;\n",
       "    }\n",
       "\n",
       "    .dataframe thead th {\n",
       "        text-align: right;\n",
       "    }\n",
       "</style>\n",
       "<table border=\"1\" class=\"dataframe\">\n",
       "  <thead>\n",
       "    <tr style=\"text-align: right;\">\n",
       "      <th></th>\n",
       "      <th>0</th>\n",
       "    </tr>\n",
       "  </thead>\n",
       "  <tbody>\n",
       "    <tr>\n",
       "      <th>0</th>\n",
       "      <td>https://imgauto-phinf.pstatic.net/20200310_295...</td>\n",
       "    </tr>\n",
       "    <tr>\n",
       "      <th>1</th>\n",
       "      <td>https://imgauto-phinf.pstatic.net/20200306_144...</td>\n",
       "    </tr>\n",
       "    <tr>\n",
       "      <th>2</th>\n",
       "      <td>https://imgauto-phinf.pstatic.net/20170707_35/...</td>\n",
       "    </tr>\n",
       "    <tr>\n",
       "      <th>3</th>\n",
       "      <td>https://imgauto-phinf.pstatic.net/20170707_86/...</td>\n",
       "    </tr>\n",
       "    <tr>\n",
       "      <th>4</th>\n",
       "      <td>https://imgauto-phinf.pstatic.net/20200106_247...</td>\n",
       "    </tr>\n",
       "    <tr>\n",
       "      <th>5</th>\n",
       "      <td>https://imgauto-phinf.pstatic.net/20170707_69/...</td>\n",
       "    </tr>\n",
       "    <tr>\n",
       "      <th>6</th>\n",
       "      <td>https://imgauto-phinf.pstatic.net/20170707_59/...</td>\n",
       "    </tr>\n",
       "    <tr>\n",
       "      <th>7</th>\n",
       "      <td>https://imgauto-phinf.pstatic.net/20200416_104...</td>\n",
       "    </tr>\n",
       "    <tr>\n",
       "      <th>8</th>\n",
       "      <td>https://imgauto-phinf.pstatic.net/20200211_29/...</td>\n",
       "    </tr>\n",
       "    <tr>\n",
       "      <th>9</th>\n",
       "      <td>https://imgauto-phinf.pstatic.net/20191001_115...</td>\n",
       "    </tr>\n",
       "    <tr>\n",
       "      <th>10</th>\n",
       "      <td>https://imgauto-phinf.pstatic.net/20210105_214...</td>\n",
       "    </tr>\n",
       "    <tr>\n",
       "      <th>11</th>\n",
       "      <td>https://imgauto-phinf.pstatic.net/20200313_207...</td>\n",
       "    </tr>\n",
       "    <tr>\n",
       "      <th>12</th>\n",
       "      <td>https://imgauto-phinf.pstatic.net/20200306_19/...</td>\n",
       "    </tr>\n",
       "    <tr>\n",
       "      <th>13</th>\n",
       "      <td>https://imgauto-phinf.pstatic.net/20170707_99/...</td>\n",
       "    </tr>\n",
       "    <tr>\n",
       "      <th>14</th>\n",
       "      <td>https://imgauto-phinf.pstatic.net/20210128_107...</td>\n",
       "    </tr>\n",
       "    <tr>\n",
       "      <th>15</th>\n",
       "      <td>https://imgauto-phinf.pstatic.net/20170707_298...</td>\n",
       "    </tr>\n",
       "    <tr>\n",
       "      <th>16</th>\n",
       "      <td>https://imgauto-phinf.pstatic.net/20200327_83/...</td>\n",
       "    </tr>\n",
       "    <tr>\n",
       "      <th>17</th>\n",
       "      <td>https://imgauto-phinf.pstatic.net/20170707_243...</td>\n",
       "    </tr>\n",
       "    <tr>\n",
       "      <th>18</th>\n",
       "      <td>https://imgauto-phinf.pstatic.net/20200210_173...</td>\n",
       "    </tr>\n",
       "    <tr>\n",
       "      <th>19</th>\n",
       "      <td>https://imgauto-phinf.pstatic.net/20200210_57/...</td>\n",
       "    </tr>\n",
       "    <tr>\n",
       "      <th>20</th>\n",
       "      <td>https://imgauto-phinf.pstatic.net/20200508_160...</td>\n",
       "    </tr>\n",
       "    <tr>\n",
       "      <th>21</th>\n",
       "      <td>https://imgauto-phinf.pstatic.net/20200210_3/a...</td>\n",
       "    </tr>\n",
       "    <tr>\n",
       "      <th>22</th>\n",
       "      <td>https://imgauto-phinf.pstatic.net/20170707_250...</td>\n",
       "    </tr>\n",
       "    <tr>\n",
       "      <th>23</th>\n",
       "      <td>https://imgauto-phinf.pstatic.net/20200207_262...</td>\n",
       "    </tr>\n",
       "    <tr>\n",
       "      <th>24</th>\n",
       "      <td>https://imgauto-phinf.pstatic.net/20191211_152...</td>\n",
       "    </tr>\n",
       "    <tr>\n",
       "      <th>25</th>\n",
       "      <td>https://imgauto-phinf.pstatic.net/20170707_51/...</td>\n",
       "    </tr>\n",
       "    <tr>\n",
       "      <th>26</th>\n",
       "      <td>https://imgauto-phinf.pstatic.net/20200911_42/...</td>\n",
       "    </tr>\n",
       "    <tr>\n",
       "      <th>27</th>\n",
       "      <td>https://imgauto-phinf.pstatic.net/20200511_32/...</td>\n",
       "    </tr>\n",
       "    <tr>\n",
       "      <th>28</th>\n",
       "      <td>https://imgauto-phinf.pstatic.net/20170707_35/...</td>\n",
       "    </tr>\n",
       "    <tr>\n",
       "      <th>29</th>\n",
       "      <td>https://imgauto-phinf.pstatic.net/20200306_94/...</td>\n",
       "    </tr>\n",
       "    <tr>\n",
       "      <th>30</th>\n",
       "      <td>https://imgauto-phinf.pstatic.net/20200211_86/...</td>\n",
       "    </tr>\n",
       "    <tr>\n",
       "      <th>31</th>\n",
       "      <td>https://imgauto-phinf.pstatic.net/20170707_150...</td>\n",
       "    </tr>\n",
       "    <tr>\n",
       "      <th>32</th>\n",
       "      <td>https://imgauto-phinf.pstatic.net/20170707_228...</td>\n",
       "    </tr>\n",
       "    <tr>\n",
       "      <th>33</th>\n",
       "      <td>https://imgauto-phinf.pstatic.net/20201231_221...</td>\n",
       "    </tr>\n",
       "    <tr>\n",
       "      <th>34</th>\n",
       "      <td>https://imgauto-phinf.pstatic.net/20200306_108...</td>\n",
       "    </tr>\n",
       "  </tbody>\n",
       "</table>\n",
       "</div>"
      ],
      "text/plain": [
       "                                                    0\n",
       "0   https://imgauto-phinf.pstatic.net/20200310_295...\n",
       "1   https://imgauto-phinf.pstatic.net/20200306_144...\n",
       "2   https://imgauto-phinf.pstatic.net/20170707_35/...\n",
       "3   https://imgauto-phinf.pstatic.net/20170707_86/...\n",
       "4   https://imgauto-phinf.pstatic.net/20200106_247...\n",
       "5   https://imgauto-phinf.pstatic.net/20170707_69/...\n",
       "6   https://imgauto-phinf.pstatic.net/20170707_59/...\n",
       "7   https://imgauto-phinf.pstatic.net/20200416_104...\n",
       "8   https://imgauto-phinf.pstatic.net/20200211_29/...\n",
       "9   https://imgauto-phinf.pstatic.net/20191001_115...\n",
       "10  https://imgauto-phinf.pstatic.net/20210105_214...\n",
       "11  https://imgauto-phinf.pstatic.net/20200313_207...\n",
       "12  https://imgauto-phinf.pstatic.net/20200306_19/...\n",
       "13  https://imgauto-phinf.pstatic.net/20170707_99/...\n",
       "14  https://imgauto-phinf.pstatic.net/20210128_107...\n",
       "15  https://imgauto-phinf.pstatic.net/20170707_298...\n",
       "16  https://imgauto-phinf.pstatic.net/20200327_83/...\n",
       "17  https://imgauto-phinf.pstatic.net/20170707_243...\n",
       "18  https://imgauto-phinf.pstatic.net/20200210_173...\n",
       "19  https://imgauto-phinf.pstatic.net/20200210_57/...\n",
       "20  https://imgauto-phinf.pstatic.net/20200508_160...\n",
       "21  https://imgauto-phinf.pstatic.net/20200210_3/a...\n",
       "22  https://imgauto-phinf.pstatic.net/20170707_250...\n",
       "23  https://imgauto-phinf.pstatic.net/20200207_262...\n",
       "24  https://imgauto-phinf.pstatic.net/20191211_152...\n",
       "25  https://imgauto-phinf.pstatic.net/20170707_51/...\n",
       "26  https://imgauto-phinf.pstatic.net/20200911_42/...\n",
       "27  https://imgauto-phinf.pstatic.net/20200511_32/...\n",
       "28  https://imgauto-phinf.pstatic.net/20170707_35/...\n",
       "29  https://imgauto-phinf.pstatic.net/20200306_94/...\n",
       "30  https://imgauto-phinf.pstatic.net/20200211_86/...\n",
       "31  https://imgauto-phinf.pstatic.net/20170707_150...\n",
       "32  https://imgauto-phinf.pstatic.net/20170707_228...\n",
       "33  https://imgauto-phinf.pstatic.net/20201231_221...\n",
       "34  https://imgauto-phinf.pstatic.net/20200306_108..."
      ]
     },
     "execution_count": 26,
     "metadata": {},
     "output_type": "execute_result"
    }
   ],
   "source": [
    "pd.DataFrame(bikeE)"
   ]
  },
  {
   "cell_type": "code",
   "execution_count": null,
   "metadata": {},
   "outputs": [],
   "source": [
    "<a href=\"javascript:void(0);\" class=\"detail_more\" onclick=\"oVendorSelectForAll._onToggleLayer();\">전체 제조사</a>"
   ]
  },
  {
   "cell_type": "code",
   "execution_count": null,
   "metadata": {},
   "outputs": [],
   "source": [
    "# 전체 제조사 버튼 클릭 -> 확인\n",
    "# 다음 페이지 존재\n",
    "\n",
    "# 일단 https://auto.naver.com/bike/mainList.nhn 로 이동한다.\n",
    "# 크롤링 결과에서 전체 제조사 엘리멘트를 찾아서 마우스 클릭하고 그 결과물을 받아온다.\n",
    "# 바이크 제조사 정보를 크롤링 한다.\n",
    "# 다음 페이지 버튼이 활성화 되어 있다면 클릭하고 그 결과물을 받아온다.(추가 제조사 정보 있음)\n",
    "# 다음 페이지 버튼이 비 활성화 되어 있다면 크롤링을 중지한다.(더이상 제조사 정보 없음)"
   ]
  },
  {
   "cell_type": "code",
   "execution_count": null,
   "metadata": {},
   "outputs": [],
   "source": [
    "a = <selenium.webdriver.remote.webelement.WebElement (session=\"0bfd932876403bb76ae3e23293811d41\", element=\"35273343-03ca-447a-9a4e-bbb67526f477\")>"
   ]
  },
  {
   "cell_type": "code",
   "execution_count": null,
   "metadata": {},
   "outputs": [],
   "source": []
  },
  {
   "cell_type": "code",
   "execution_count": null,
   "metadata": {},
   "outputs": [],
   "source": []
  },
  {
   "cell_type": "code",
   "execution_count": null,
   "metadata": {},
   "outputs": [],
   "source": []
  },
  {
   "cell_type": "code",
   "execution_count": null,
   "metadata": {},
   "outputs": [],
   "source": []
  },
  {
   "cell_type": "code",
   "execution_count": null,
   "metadata": {},
   "outputs": [],
   "source": []
  },
  {
   "cell_type": "code",
   "execution_count": null,
   "metadata": {},
   "outputs": [],
   "source": []
  },
  {
   "cell_type": "code",
   "execution_count": null,
   "metadata": {},
   "outputs": [],
   "source": []
  },
  {
   "cell_type": "code",
   "execution_count": null,
   "metadata": {},
   "outputs": [],
   "source": []
  },
  {
   "cell_type": "code",
   "execution_count": null,
   "metadata": {},
   "outputs": [],
   "source": []
  },
  {
   "cell_type": "code",
   "execution_count": null,
   "metadata": {},
   "outputs": [],
   "source": []
  },
  {
   "cell_type": "code",
   "execution_count": null,
   "metadata": {},
   "outputs": [],
   "source": []
  },
  {
   "cell_type": "code",
   "execution_count": null,
   "metadata": {},
   "outputs": [],
   "source": []
  },
  {
   "cell_type": "code",
   "execution_count": null,
   "metadata": {},
   "outputs": [],
   "source": []
  },
  {
   "cell_type": "code",
   "execution_count": null,
   "metadata": {},
   "outputs": [],
   "source": []
  },
  {
   "cell_type": "code",
   "execution_count": null,
   "metadata": {},
   "outputs": [],
   "source": []
  },
  {
   "cell_type": "code",
   "execution_count": null,
   "metadata": {},
   "outputs": [],
   "source": []
  },
  {
   "cell_type": "code",
   "execution_count": null,
   "metadata": {},
   "outputs": [],
   "source": []
  },
  {
   "cell_type": "code",
   "execution_count": null,
   "metadata": {},
   "outputs": [],
   "source": []
  }
 ],
 "metadata": {
  "kernelspec": {
   "display_name": "Python 3",
   "language": "python",
   "name": "python3"
  },
  "language_info": {
   "codemirror_mode": {
    "name": "ipython",
    "version": 3
   },
   "file_extension": ".py",
   "mimetype": "text/x-python",
   "name": "python",
   "nbconvert_exporter": "python",
   "pygments_lexer": "ipython3",
   "version": "3.8.5"
  }
 },
 "nbformat": 4,
 "nbformat_minor": 4
}
