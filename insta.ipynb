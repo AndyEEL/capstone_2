{
 "cells": [
  {
   "cell_type": "code",
   "execution_count": 7,
   "metadata": {},
   "outputs": [],
   "source": [
    "from  selenium import webdriver\n",
    "from selenium.webdriver.common.keys import Keys\n",
    "import time as time\n",
    "from time import sleep\n",
    "\n",
    "driver = webdriver.Chrome('C:\\informs\\chromedriver_win32\\chromedriver.exe')\n",
    "driver.get('https://www.instagram.com/accounts/login/')\n",
    "driver.maximize_window()\n",
    "\n",
    "time.sleep(1)\n",
    "e_id = driver.find_element_by_name('username')\n",
    "e_id.send_keys()\n",
    "\n",
    "dirfind_element_by_name\n",
    "e_id = driver.find_element_by_name('username')\n",
    "e_pw = driver.find_element_by_name('password')\n",
    "e_pw.send_keys()\n",
    "e_pw.send_keys(Keys.ENTER)\n",
    "\n",
    "time.sleep(3)\n",
    "e = driver.find_elements_by_class_name('yWX7d')[0] #나중에하기 자동클릭\n",
    "e.click()\n",
    "time.sleep(2)\n",
    "e = driver.find_elements_by_class_name('HoLwm')[0]#나중에하기 자동클릭\n",
    "e.click()"
   ]
  },
  {
   "cell_type": "code",
   "execution_count": null,
   "metadata": {},
   "outputs": [],
   "source": []
  }
 ],
 "metadata": {
  "kernelspec": {
   "display_name": "Python 3",
   "language": "python",
   "name": "python3"
  },
  "language_info": {
   "codemirror_mode": {
    "name": "ipython",
    "version": 3
   },
   "file_extension": ".py",
   "mimetype": "text/x-python",
   "name": "python",
   "nbconvert_exporter": "python",
   "pygments_lexer": "ipython3",
   "version": "3.9.2"
  }
 },
 "nbformat": 4,
 "nbformat_minor": 4
}
